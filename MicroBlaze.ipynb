{
 "cells": [
  {
   "cell_type": "code",
   "execution_count": 14,
   "metadata": {
    "collapsed": false,
    "deletable": true,
    "editable": true
   },
   "outputs": [
    {
     "name": "stdout",
     "output_type": "stream",
     "text": [
      "40.0\n"
     ]
    }
   ],
   "source": [
    "# Make sure the base overlay is loaded\n",
    "from pynq import Overlay\n",
    "Overlay(\"base.bit\").download()\n",
    "import numpy\n",
    "\n",
    "import time\n",
    "from pynq.iop import Arduino_Analog\n",
    "from pynq.iop import ARDUINO\n",
    "from pynq.iop import ARDUINO_GROVE_A1\n",
    "from pynq.iop import ARDUINO_GROVE_A4\n",
    "from pynq.iop import Arduino_IO\n",
    "from pynq.iop import Pmod_IO\n",
    "from pynq.iop import PMODA\n",
    "\n",
    "def setUp():\n",
    "    trigPin = Pmod_IO(PMODA,0,\"out\")\n",
    "    analog = Arduino_Analog(ARDUINO,[0])\n",
    "\n",
    "def getDistance():\n",
    "\n",
    "    trigPin.write(0)\n",
    "    time.sleep(.1)\n",
    "\n",
    "    trigPin.write(1)\n",
    "    time.sleep(0.00001)\n",
    "    trigPin.write(0)\n",
    "\n",
    "    return analog.read()\n",
    "\n",
    "\n",
    "def getReading():\n",
    "    x = []\n",
    "    for i in range(0,10):\n",
    "        x.append(getDistance())\n",
    "\n",
    "    return numpy.median(x)\n",
    "\n",
    "setUp()\n",
    "print(getReading())\n",
    "\n"
   ]
  },
  {
   "cell_type": "code",
   "execution_count": null,
   "metadata": {
    "collapsed": true,
    "deletable": true,
    "editable": true
   },
   "outputs": [],
   "source": []
  },
  {
   "cell_type": "code",
   "execution_count": null,
   "metadata": {
    "collapsed": true,
    "deletable": true,
    "editable": true
   },
   "outputs": [],
   "source": []
  },
  {
   "cell_type": "code",
   "execution_count": null,
   "metadata": {
    "collapsed": true,
    "deletable": true,
    "editable": true
   },
   "outputs": [],
   "source": []
  }
 ],
 "metadata": {
  "kernelspec": {
   "display_name": "Python 3",
   "language": "python",
   "name": "python3"
  },
  "language_info": {
   "codemirror_mode": {
    "name": "ipython",
    "version": 3
   },
   "file_extension": ".py",
   "mimetype": "text/x-python",
   "name": "python",
   "nbconvert_exporter": "python",
   "pygments_lexer": "ipython3",
   "version": "3.6.0"
  }
 },
 "nbformat": 4,
 "nbformat_minor": 2
}
